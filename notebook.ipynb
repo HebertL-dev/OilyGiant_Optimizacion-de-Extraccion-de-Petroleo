{
 "cells": [
  {
   "cell_type": "code",
   "execution_count": 44,
   "metadata": {},
   "outputs": [],
   "source": [
    "import pandas as pd \n",
    "from sklearn.linear_model import LinearRegression\n",
    "from sklearn.model_selection import train_test_split\n",
    "from sklearn.metrics import mean_squared_error"
   ]
  },
  {
   "cell_type": "code",
   "execution_count": 56,
   "metadata": {},
   "outputs": [],
   "source": [
    "df = pd.read_csv('geo_data_0.csv')\n",
    "df1 = pd.read_csv('geo_data_1.csv')\n",
    "df2 = pd.read_csv('geo_data_2.csv')"
   ]
  },
  {
   "cell_type": "code",
   "execution_count": 58,
   "metadata": {},
   "outputs": [
    {
     "data": {
      "text/html": [
       "<div>\n",
       "<style scoped>\n",
       "    .dataframe tbody tr th:only-of-type {\n",
       "        vertical-align: middle;\n",
       "    }\n",
       "\n",
       "    .dataframe tbody tr th {\n",
       "        vertical-align: top;\n",
       "    }\n",
       "\n",
       "    .dataframe thead th {\n",
       "        text-align: right;\n",
       "    }\n",
       "</style>\n",
       "<table border=\"1\" class=\"dataframe\">\n",
       "  <thead>\n",
       "    <tr style=\"text-align: right;\">\n",
       "      <th></th>\n",
       "      <th>id</th>\n",
       "      <th>f0</th>\n",
       "      <th>f1</th>\n",
       "      <th>f2</th>\n",
       "      <th>product</th>\n",
       "    </tr>\n",
       "  </thead>\n",
       "  <tbody>\n",
       "    <tr>\n",
       "      <th>931</th>\n",
       "      <td>HZww2</td>\n",
       "      <td>0.755284</td>\n",
       "      <td>0.368511</td>\n",
       "      <td>1.863211</td>\n",
       "      <td>30.681774</td>\n",
       "    </tr>\n",
       "    <tr>\n",
       "      <th>7530</th>\n",
       "      <td>HZww2</td>\n",
       "      <td>1.061194</td>\n",
       "      <td>-0.373969</td>\n",
       "      <td>10.430210</td>\n",
       "      <td>158.828695</td>\n",
       "    </tr>\n",
       "  </tbody>\n",
       "</table>\n",
       "</div>"
      ],
      "text/plain": [
       "         id        f0        f1         f2     product\n",
       "931   HZww2  0.755284  0.368511   1.863211   30.681774\n",
       "7530  HZww2  1.061194 -0.373969  10.430210  158.828695"
      ]
     },
     "execution_count": 58,
     "metadata": {},
     "output_type": "execute_result"
    }
   ],
   "source": [
    "df.sample(20)\n",
    "df[df['id'].duplicated()]\n",
    "df[df['id'] == 'HZww2']\n"
   ]
  },
  {
   "cell_type": "code",
   "execution_count": 59,
   "metadata": {},
   "outputs": [
    {
     "data": {
      "text/html": [
       "<div>\n",
       "<style scoped>\n",
       "    .dataframe tbody tr th:only-of-type {\n",
       "        vertical-align: middle;\n",
       "    }\n",
       "\n",
       "    .dataframe tbody tr th {\n",
       "        vertical-align: top;\n",
       "    }\n",
       "\n",
       "    .dataframe thead th {\n",
       "        text-align: right;\n",
       "    }\n",
       "</style>\n",
       "<table border=\"1\" class=\"dataframe\">\n",
       "  <thead>\n",
       "    <tr style=\"text-align: right;\">\n",
       "      <th></th>\n",
       "      <th>id</th>\n",
       "      <th>f0</th>\n",
       "      <th>f1</th>\n",
       "      <th>f2</th>\n",
       "      <th>product</th>\n",
       "    </tr>\n",
       "  </thead>\n",
       "  <tbody>\n",
       "    <tr>\n",
       "      <th>1305</th>\n",
       "      <td>LHZR0</td>\n",
       "      <td>11.170835</td>\n",
       "      <td>-1.945066</td>\n",
       "      <td>3.002872</td>\n",
       "      <td>80.859783</td>\n",
       "    </tr>\n",
       "    <tr>\n",
       "      <th>41906</th>\n",
       "      <td>LHZR0</td>\n",
       "      <td>-8.989672</td>\n",
       "      <td>-4.286607</td>\n",
       "      <td>2.009139</td>\n",
       "      <td>57.085625</td>\n",
       "    </tr>\n",
       "  </tbody>\n",
       "</table>\n",
       "</div>"
      ],
      "text/plain": [
       "          id         f0        f1        f2    product\n",
       "1305   LHZR0  11.170835 -1.945066  3.002872  80.859783\n",
       "41906  LHZR0  -8.989672 -4.286607  2.009139  57.085625"
      ]
     },
     "execution_count": 59,
     "metadata": {},
     "output_type": "execute_result"
    }
   ],
   "source": [
    "df1.sample(20)\n",
    "df1[df1['id'].duplicated()]\n",
    "df1[df1['id'] == 'LHZR0']"
   ]
  },
  {
   "cell_type": "code",
   "execution_count": 60,
   "metadata": {},
   "outputs": [
    {
     "data": {
      "text/html": [
       "<div>\n",
       "<style scoped>\n",
       "    .dataframe tbody tr th:only-of-type {\n",
       "        vertical-align: middle;\n",
       "    }\n",
       "\n",
       "    .dataframe tbody tr th {\n",
       "        vertical-align: top;\n",
       "    }\n",
       "\n",
       "    .dataframe thead th {\n",
       "        text-align: right;\n",
       "    }\n",
       "</style>\n",
       "<table border=\"1\" class=\"dataframe\">\n",
       "  <thead>\n",
       "    <tr style=\"text-align: right;\">\n",
       "      <th></th>\n",
       "      <th>id</th>\n",
       "      <th>f0</th>\n",
       "      <th>f1</th>\n",
       "      <th>f2</th>\n",
       "      <th>product</th>\n",
       "    </tr>\n",
       "  </thead>\n",
       "  <tbody>\n",
       "    <tr>\n",
       "      <th>28039</th>\n",
       "      <td>xCHr8</td>\n",
       "      <td>1.633027</td>\n",
       "      <td>0.368135</td>\n",
       "      <td>-2.378367</td>\n",
       "      <td>6.120525</td>\n",
       "    </tr>\n",
       "    <tr>\n",
       "      <th>43233</th>\n",
       "      <td>xCHr8</td>\n",
       "      <td>-0.847066</td>\n",
       "      <td>2.101796</td>\n",
       "      <td>5.597130</td>\n",
       "      <td>184.388641</td>\n",
       "    </tr>\n",
       "  </tbody>\n",
       "</table>\n",
       "</div>"
      ],
      "text/plain": [
       "          id        f0        f1        f2     product\n",
       "28039  xCHr8  1.633027  0.368135 -2.378367    6.120525\n",
       "43233  xCHr8 -0.847066  2.101796  5.597130  184.388641"
      ]
     },
     "execution_count": 60,
     "metadata": {},
     "output_type": "execute_result"
    }
   ],
   "source": [
    "df2.sample(20)\n",
    "df2[df2['id'].duplicated()]\n",
    "df2[df2['id'] == 'xCHr8']"
   ]
  },
  {
   "cell_type": "markdown",
   "metadata": {},
   "source": [
    "Se han examinado los 3 archivos csv y al parecer no hay ningun problema con ninguno, y los ids duplicados que hay es por la diferencia de region. Por lo tanto parecen estar listos para lo siguiente."
   ]
  },
  {
   "cell_type": "code",
   "execution_count": 48,
   "metadata": {},
   "outputs": [
    {
     "name": "stdout",
     "output_type": "stream",
     "text": [
      "RECM del modelo de regresión lineal en el conjunto de validación: 37.5794217150813\n",
      "Volumen medio de las reservas:  92.59256778438035\n"
     ]
    }
   ],
   "source": [
    "features = df[['f0', 'f1', 'f2']]\n",
    "target = df['product']\n",
    "\n",
    "features_train, features_valid, target_train, target_valid = train_test_split(\n",
    "    features, target, test_size=0.25, random_state=12345)\n",
    "\n",
    "model =LinearRegression() # inicializa el constructor de modelos\n",
    "model.fit(features_train, target_train) # entrena el modelo en el conjunto de entrenamiento\n",
    "predictions_valid = model.predict(features_valid) # obtén las predicciones del modelo en el conjunto de validación\n",
    "\n",
    "result =mean_squared_error(target_valid, predictions_valid)**0.5 # calcula la RECM en el conjunto de validación\n",
    "print(\"RECM del modelo de regresión lineal en el conjunto de validación:\", result)\n",
    "mean_prediction = predictions_valid.mean()\n",
    "print(\"Volumen medio de las reservas: \", mean_prediction)"
   ]
  },
  {
   "cell_type": "markdown",
   "metadata": {},
   "source": [
    "En lo anterior dividi los datos para el conjunto de entrenamiento y el de validacion, y tengo las respuestas validas en target_valid y las predicciones en predictions_valid, tambien se calculo el rmse y el volumen medio de las reservas."
   ]
  },
  {
   "cell_type": "markdown",
   "metadata": {},
   "source": [
    "El analisis de esta parte es el siguiente:"
   ]
  },
  {
   "cell_type": "markdown",
   "metadata": {},
   "source": [
    "RECM (Raíz Cuadrada del Error Cuadrático Medio):\n",
    "RECM: 37.58\n",
    "La RECM de aproximadamente 37.58 indica el error promedio entre las reservas reales y las predichas por el modelo.\n",
    "A menor valor de RECM, mejor es el rendimiento del modelo en cuanto a precisión de las predicciones.\n",
    "Volumen Medio de las Reservas Predicho:\n",
    "Volumen medio: 92.59 \n",
    "El volumen medio de reservas predicho es de aproximadamente 92.59. Este es el promedio esperado basado en las características (f0, f1, f2) utilizadas en el modelo."
   ]
  },
  {
   "cell_type": "markdown",
   "metadata": {},
   "source": [
    "Ahora procedere a hacer todo esto en funciones para usarlas con los 3 archivos. Tambien hacer la comparacion del volumen medio con el umbral que se menciona en el proyecto, al mismo tiempo estoy mostrando los 200 pozoz con valores mas altos por region y los muestro utilizando un bucle for."
   ]
  },
  {
   "cell_type": "code",
   "execution_count": 76,
   "metadata": {},
   "outputs": [
    {
     "name": "stdout",
     "output_type": "stream",
     "text": [
      "\n",
      "Región 1:\n",
      "          id     product\n",
      "8826   rjMou  185.364347\n",
      "99818  7cHIv  185.362690\n",
      "94175  uCDzR  185.355615\n",
      "1925   IfqrC  185.354980\n",
      "45291  5FEPb  185.352015\n",
      "...      ...         ...\n",
      "34856  Xqm8i  184.366474\n",
      "54135  oAHG7  184.362338\n",
      "63598  CaN8V  184.360762\n",
      "4941   orIzp  184.358756\n",
      "79494  obTWo  184.356455\n",
      "\n",
      "[200 rows x 2 columns]\n",
      "\n",
      "Región 2:\n",
      "          id     product\n",
      "89365  kM3uQ  137.945408\n",
      "7215   oU4Lm  137.945408\n",
      "79168  tkegj  137.945408\n",
      "79174  1ZlMX  137.945408\n",
      "79187  XjkaY  137.945408\n",
      "...      ...         ...\n",
      "63977  vpuvk  137.945408\n",
      "98993  MIHmR  137.945408\n",
      "98995  zkon9  137.945408\n",
      "98999  DxgRk  137.945408\n",
      "99003  o6Xz2  137.945408\n",
      "\n",
      "[200 rows x 2 columns]\n",
      "\n",
      "Región 3:\n",
      "          id     product\n",
      "79705  UAhji  190.029838\n",
      "93444  IB0JE  190.013589\n",
      "35099  2HeCn  190.011722\n",
      "21943  dldNH  190.010982\n",
      "37870  CpuBi  190.010029\n",
      "...      ...         ...\n",
      "96482  hfbIz  189.038807\n",
      "53814  6YAZG  189.038746\n",
      "5138   RO6MB  189.037389\n",
      "91855  y3w0m  189.024650\n",
      "51559  inKEw  189.024253\n",
      "\n",
      "[200 rows x 2 columns]\n",
      "\n",
      "total_volumen_region1: 36966.747929072015\n",
      "\n",
      "total_volumen_region2: 27589.081548181126\n",
      "\n",
      "total_volumen_region3: 37910.29539635329\n",
      "Volumen medio de las reservas:  92.59256778438035\n",
      "RMSE for geo_data_1: 37.5794217150813\n",
      "El volumen medio de reservas (92.59256778438035) es insuficiente para evitar pérdidas.\n",
      "Volumen medio de las reservas:  68.72854689544602\n",
      "RMSE for geo_data_1: 0.8930992867756165\n",
      "El volumen medio de reservas (68.72854689544602) es insuficiente para evitar pérdidas.\n",
      "Volumen medio de las reservas:  94.96504596800489\n",
      "RMSE for geo_data_1: 40.02970873393434\n",
      "El volumen medio de reservas (94.96504596800489) es insuficiente para evitar pérdidas.\n"
     ]
    }
   ],
   "source": [
    "# Función 1: Dividir en Conjuntos\n",
    "def split_data(df, target_col):\n",
    "    features = df[['f0', 'f1', 'f2']]\n",
    "    target = df['product']\n",
    "    return train_test_split(features, target, test_size=0.25, random_state=12345)\n",
    "\n",
    "# Función 2: Entrenar Modelo\n",
    "def train_model(features_train, target_train):\n",
    "    model = LinearRegression()\n",
    "    model.fit(features_train, target_train)\n",
    "    return model\n",
    "\n",
    "# Función 3: Evaluar Modelo\n",
    "def evaluate_model(model, features_valid, target_valid):\n",
    "    predictions = model.predict(features_valid)\n",
    "    rmse = mean_squared_error(target_valid, predictions) ** 0.5\n",
    "    mean_prediction = predictions.mean()\n",
    "    return rmse, mean_prediction\n",
    "\n",
    "# Función 4: Comparar volumen medio con el umbral\n",
    "def compare_to_threshold(mean_prediction, threshold=111.1):\n",
    "    if mean_prediction >= threshold:\n",
    "        return f\"El volumen medio de reservas ({mean_prediction}) es suficiente para evitar pérdidas.\"\n",
    "    else:\n",
    "        return f\"El volumen medio de reservas ({mean_prediction}) es insuficiente para evitar pérdidas.\"\n",
    "\n",
    "# Función 5: Seleccionar los mejores 200 pozos de todas las zonas\n",
    "def select_top_pozos(df, top_n=200):\n",
    "    df_sorted = df.sort_values(by='product', ascending=False)\n",
    "    return df_sorted.head(top_n)\n",
    "\n",
    "# Aplicar la función a cada región\n",
    "top_pozos_region1 = select_top_pozos(df)\n",
    "top_pozos_region2 = select_top_pozos(df1)\n",
    "top_pozos_region3 = select_top_pozos(df2)\n",
    "\n",
    "# Diccionario de regiones y sus datos\n",
    "regiones = {\n",
    "    'Región 1': top_pozos_region1,\n",
    "    'Región 2': top_pozos_region2,\n",
    "    'Región 3': top_pozos_region3\n",
    "}\n",
    "\n",
    "# Calcular el volumen total para cada región\n",
    "total_volume_region1 = sum(top_pozos_region1['product'])\n",
    "total_volume_region2 = sum(top_pozos_region2['product'])\n",
    "total_volume_region3 = sum(top_pozos_region3['product'])\n",
    "\n",
    "volumenes = {\n",
    "    'total_volumen_region1': total_volume_region1,\n",
    "    'total_volumen_region2': total_volume_region2,\n",
    "    'total_volumen_region3': total_volume_region3\n",
    "}\n",
    "\n",
    "# Bucle para mostrar los resultados de regiones\n",
    "for region, data in regiones.items():\n",
    "    print(f\"\\n{region}:\")\n",
    "    print(data[['id', 'product']])\n",
    "\n",
    "# Bucle para mostrar los resultados de los volúmenes\n",
    "for volumen, data in volumenes.items():\n",
    "    print(f\"\\n{volumen}: {data}\")\n",
    "\n",
    "# Procesamiento para la región 1\n",
    "features_train, features_valid, target_train, target_valid = split_data(df, 'product')\n",
    "model = train_model(features_train, target_train)\n",
    "rmse, mean_prediction = evaluate_model(model, features_valid, target_valid)\n",
    "print(\"Volumen medio de las reservas: \", mean_prediction)\n",
    "print(f\"RMSE for geo_data_1: {rmse}\")\n",
    "print(compare_to_threshold(mean_prediction))\n",
    "\n",
    "# Procesamiento para la región 2\n",
    "features_train_1, features_valid_1, target_train_1, target_valid_1 = split_data(df1, 'product')\n",
    "model_1 = train_model(features_train_1, target_train_1)\n",
    "rmse_1, mean_prediction_1 = evaluate_model(model_1, features_valid_1, target_valid_1)\n",
    "print(\"Volumen medio de las reservas: \", mean_prediction_1)\n",
    "print(f\"RMSE for geo_data_1: {rmse_1}\")\n",
    "print(compare_to_threshold(mean_prediction_1))\n",
    "\n",
    "# Procesamiento para la región 3\n",
    "features_train_2, features_valid_2, target_train_2, target_valid_2 = split_data(df2, 'product')\n",
    "model_2 = train_model(features_train_2, target_train_2)\n",
    "rmse_2, mean_prediction_2 = evaluate_model(model_2, features_valid_2, target_valid_2)\n",
    "print(\"Volumen medio de las reservas: \", mean_prediction_2)\n",
    "print(f\"RMSE for geo_data_1: {rmse_2}\")\n",
    "print(compare_to_threshold(mean_prediction_2))\n"
   ]
  }
 ],
 "metadata": {
  "kernelspec": {
   "display_name": "integrated",
   "language": "python",
   "name": "python3"
  },
  "language_info": {
   "codemirror_mode": {
    "name": "ipython",
    "version": 3
   },
   "file_extension": ".py",
   "mimetype": "text/x-python",
   "name": "python",
   "nbconvert_exporter": "python",
   "pygments_lexer": "ipython3",
   "version": "3.12.4"
  }
 },
 "nbformat": 4,
 "nbformat_minor": 2
}
